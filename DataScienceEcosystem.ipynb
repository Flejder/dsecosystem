{
 "cells": [
  {
   "cell_type": "markdown",
   "id": "b9fea5c4-591d-4c60-838e-745986a922a1",
   "metadata": {},
   "source": [
    "# Data Science Tools and Ecosystem"
   ]
  },
  {
   "cell_type": "markdown",
   "id": "db7a122f-0ea2-4b7c-a1db-ea6c7950dfc4",
   "metadata": {},
   "source": [
    "In this notebook, Data Science Tools and Ecosystem are summarized."
   ]
  },
  {
   "cell_type": "markdown",
   "id": "57102cbe-a265-4edd-8548-5b6485cd443d",
   "metadata": {},
   "source": [
    "**Objectives:**\n",
    "- List popular languages for Data Science\n",
    "- List common libraries for Data Science\n",
    "- List some Data Science Open Source Tools"
   ]
  },
  {
   "cell_type": "markdown",
   "id": "a1ead5a1-a0ba-4aa1-b61f-f71f368b73ce",
   "metadata": {},
   "source": [
    "Some of the popular languages that Data Scientists are:\n",
    "1. Python\n",
    "2. R\n",
    "3. SQL"
   ]
  },
  {
   "cell_type": "markdown",
   "id": "4a629e2e-f287-446d-a225-df4395afc313",
   "metadata": {},
   "source": [
    "Some of the commonly used libraries used by Data Scientists include:\n",
    "1. Scikit-learn\n",
    "2. Tensor Flow\n",
    "3. Pytorch   "
   ]
  },
  {
   "cell_type": "markdown",
   "id": "7f703f47-46e8-44cb-8082-d2d18f113cd3",
   "metadata": {},
   "source": [
    "|Data Science Tools|\n",
    "------------------\n",
    "|RStudio|\n",
    "|Apache Spark|\n",
    "|MySQL|"
   ]
  },
  {
   "cell_type": "markdown",
   "id": "cd281452-6a2d-418e-a14e-e074c80e465a",
   "metadata": {},
   "source": [
    "### Below are a few examples of evaluating arithmetic expressions in Python"
   ]
  },
  {
   "cell_type": "code",
   "execution_count": 4,
   "id": "a86313c6-f8eb-4e90-9fed-5d36ace11b4b",
   "metadata": {},
   "outputs": [
    {
     "data": {
      "text/plain": [
       "17"
      ]
     },
     "execution_count": 4,
     "metadata": {},
     "output_type": "execute_result"
    }
   ],
   "source": [
    "# This a simple arithmetic expression to multiply then add integers\n",
    "(3*4)+5\n"
   ]
  },
  {
   "cell_type": "code",
   "execution_count": 3,
   "id": "212d16c5-f82b-401e-aea3-cae43887caaa",
   "metadata": {},
   "outputs": [
    {
     "data": {
      "text/plain": [
       "3.3333333333333335"
      ]
     },
     "execution_count": 3,
     "metadata": {},
     "output_type": "execute_result"
    }
   ],
   "source": [
    "# This will convert 200 minutes to hours by diving by 60\n",
    "200/60"
   ]
  },
  {
   "cell_type": "markdown",
   "id": "0f802d14-6de2-4dea-9c06-3bd8f24d2d93",
   "metadata": {},
   "source": [
    "## Paulo A. Flejder"
   ]
  },
  {
   "cell_type": "code",
   "execution_count": null,
   "id": "4ccce8bb-2d06-4098-9eec-1cce9149079e",
   "metadata": {},
   "outputs": [],
   "source": []
  }
 ],
 "metadata": {
  "kernelspec": {
   "display_name": "Python",
   "language": "python",
   "name": "conda-env-python-py"
  },
  "language_info": {
   "codemirror_mode": {
    "name": "ipython",
    "version": 3
   },
   "file_extension": ".py",
   "mimetype": "text/x-python",
   "name": "python",
   "nbconvert_exporter": "python",
   "pygments_lexer": "ipython3",
   "version": "3.7.12"
  }
 },
 "nbformat": 4,
 "nbformat_minor": 5
}
